{
 "cells": [
  {
   "cell_type": "code",
   "execution_count": 2,
   "metadata": {},
   "outputs": [],
   "source": [
    "import pandas as pd  \n",
    "import requests  \n",
    "import re  \n",
    "from bs4 import BeautifulSoup  \n",
    "import json\n",
    "import time "
   ]
  },
  {
   "cell_type": "code",
   "execution_count": null,
   "metadata": {},
   "outputs": [],
   "source": [
    "url_1=\"https://sousuo.www.gov.cn/search-gov/data?t=zhengcelibrary&q=\"\n",
    "url_3=\"&timetype=&mintime=&maxtime=&sort=score&sortType=1&searchfield=title&pcodeJiguan=&childtype=&subchildtype=&tsbq=&pubtimeyear=&puborg=&pcodeYear=&pcodeNum=&filetype=&p=\"\n",
    "url_2=\"&n=5&inpro=&bmfl=&dup=&orpro=&type=gwyzcwjk\"\n",
    "header={\n",
    "'Host': 'sousuo.www.gov.cn',\n",
    "'User-Agent': 'Mozilla/5.0 (X11; Linux x86_64; rv:128.0) Gecko/20100101 Firefox/128.0',\n",
    "'Accept': 'application/json, text/plain, */*',\n",
    "'Accept-Language': 'zh-CN,zh;q=0.8,zh-TW;q=0.7,zh-HK;q=0.5,en-US;q=0.3,en;q=0.2',\n",
    "'Accept-Encoding': 'gzip',\n",
    "'Connection': 'keep-alive',\n",
    "'Referer': 'https://sousuo.www.gov.cn/zcwjk/policyDocumentLibrary?q=%E4%B9%A1%E6%9D%91%E6%8C%AF%E5%85%B4&t=zhengcelibrary&orpro=',\n",
    "'Cookie': 'arialoadData=false',\n",
    "'Sec-Fetch-Dest': 'empty',\n",
    "'Sec-Fetch-Mode': 'cors',\n",
    "'Sec-Fetch-Site': 'same-origin',\n",
    "'Priority': 'u=1'\n",
    "}\n",
    "search_list=['乡村振兴','农村发展','乡村发展']\n",
    "data=[]\n",
    "for search in search_list:\n",
    "    for i in range(25):\n",
    "        try:\n",
    "            r=requests.get(url_1+search+url_3+str(i+1)+url_2,headers=header)\n",
    "            r=r.json()\n",
    "            keys=[]\n",
    "            for i in r['searchVO']['catMap']:\n",
    "                keys.append(i)\n",
    "            result=[]\n",
    "            for key in keys:\n",
    "                if key!='otherfile':\n",
    "                    result+=r['searchVO']['catMap'][key]['listVO']\n",
    "                    data+=result\n",
    "            print('\\r Get '+str(len(result))+' | Total -> '+str(len(data)))\n",
    "        except Exception as e:\n",
    "            print('ERROR-> page'+str(i+1))\n",
    "            print(e)\n",
    "            continue\n",
    "        time.sleep(1)"
   ]
  },
  {
   "cell_type": "code",
   "execution_count": 35,
   "metadata": {},
   "outputs": [],
   "source": [
    "df1=pd.read_excel('./xczx.xlsx')\n",
    "df2=pd.read_excel('./xczx_2.xlsx')\n",
    "df3=pd.read_excel('./xczx_3.xlsx')"
   ]
  },
  {
   "cell_type": "code",
   "execution_count": 36,
   "metadata": {},
   "outputs": [],
   "source": [
    "df=pd.concat([df1[df1.columns[1:]],df2[df2.columns[1:]],df3[df3.columns[1:]]],axis=0)"
   ]
  },
  {
   "cell_type": "code",
   "execution_count": 37,
   "metadata": {},
   "outputs": [
    {
     "data": {
      "text/plain": [
       "288"
      ]
     },
     "execution_count": 37,
     "metadata": {},
     "output_type": "execute_result"
    }
   ],
   "source": [
    "df_unique = df.drop_duplicates(subset=['id'], keep='first')\n",
    "len(df_unique)"
   ]
  },
  {
   "cell_type": "code",
   "execution_count": 38,
   "metadata": {},
   "outputs": [],
   "source": [
    "def clean_text(text:str):\n",
    "    clean_text = text.replace('\\u3000','')\n",
    "    clean_text = re.sub(r'<.*?>', '', clean_text)\n",
    "    return clean_text\n",
    "def df_to_dict(df:pd.DataFrame):\n",
    "    columns=df.columns[1:]\n",
    "    r=[{} for i in range(len(df))]\n",
    "    for i in range(len(df)):\n",
    "        for u in columns:\n",
    "            r[i][u]=df[u][i]\n",
    "    return r"
   ]
  },
  {
   "cell_type": "code",
   "execution_count": 39,
   "metadata": {},
   "outputs": [
    {
     "data": {
      "text/html": [
       "<div>\n",
       "<style scoped>\n",
       "    .dataframe tbody tr th:only-of-type {\n",
       "        vertical-align: middle;\n",
       "    }\n",
       "\n",
       "    .dataframe tbody tr th {\n",
       "        vertical-align: top;\n",
       "    }\n",
       "\n",
       "    .dataframe thead th {\n",
       "        text-align: right;\n",
       "    }\n",
       "</style>\n",
       "<table border=\"1\" class=\"dataframe\">\n",
       "  <thead>\n",
       "    <tr style=\"text-align: right;\">\n",
       "      <th></th>\n",
       "      <th>piclinksurl</th>\n",
       "      <th>code</th>\n",
       "      <th>pcode</th>\n",
       "      <th>source</th>\n",
       "      <th>title</th>\n",
       "      <th>totalCount</th>\n",
       "      <th>pubtimeStr</th>\n",
       "      <th>fwzh</th>\n",
       "      <th>imgurl</th>\n",
       "      <th>dateType</th>\n",
       "      <th>...</th>\n",
       "      <th>zhengtype</th>\n",
       "      <th>personal</th>\n",
       "      <th>gname</th>\n",
       "      <th>subjectword</th>\n",
       "      <th>url</th>\n",
       "      <th>childtype</th>\n",
       "      <th>pubtime</th>\n",
       "      <th>shixiao</th>\n",
       "      <th>puborg</th>\n",
       "      <th>syqt</th>\n",
       "    </tr>\n",
       "  </thead>\n",
       "  <tbody>\n",
       "    <tr>\n",
       "      <th>0</th>\n",
       "      <td>NaN</td>\n",
       "      <td>NaN</td>\n",
       "      <td>国办函〔2021〕51号</td>\n",
       "      <td>NaN</td>\n",
       "      <td>国务院办公厅转发国家&lt;em&gt;乡村&lt;/em&gt;&lt;em&gt;振兴&lt;/em&gt;局中央农办财政部关于加强扶贫...</td>\n",
       "      <td>0</td>\n",
       "      <td>2021.06.04</td>\n",
       "      <td>NaN</td>\n",
       "      <td>NaN</td>\n",
       "      <td>True</td>\n",
       "      <td>...</td>\n",
       "      <td>NaN</td>\n",
       "      <td>False</td>\n",
       "      <td>NaN</td>\n",
       "      <td>NaN</td>\n",
       "      <td>http://www.gov.cn/zhengce/zhengceku/2021-06/04...</td>\n",
       "      <td>民政、扶贫、救灾\\扶贫</td>\n",
       "      <td>1622789760000</td>\n",
       "      <td>NaN</td>\n",
       "      <td>国务院办公厅</td>\n",
       "      <td>NaN</td>\n",
       "    </tr>\n",
       "    <tr>\n",
       "      <th>1</th>\n",
       "      <td>NaN</td>\n",
       "      <td>NaN</td>\n",
       "      <td>国发〔2019〕12号</td>\n",
       "      <td>NaN</td>\n",
       "      <td>国务院关于促进&lt;em&gt;乡村&lt;/em&gt;产业&lt;em&gt;振兴&lt;/em&gt;的指导意见</td>\n",
       "      <td>0</td>\n",
       "      <td>2019.06.28</td>\n",
       "      <td>NaN</td>\n",
       "      <td>NaN</td>\n",
       "      <td>True</td>\n",
       "      <td>...</td>\n",
       "      <td>NaN</td>\n",
       "      <td>False</td>\n",
       "      <td>NaN</td>\n",
       "      <td>NaN</td>\n",
       "      <td>http://www.gov.cn/zhengce/zhengceku/2019-06/28...</td>\n",
       "      <td>农业、林业、水利\\农业、畜牧业、渔业</td>\n",
       "      <td>1561712100000</td>\n",
       "      <td>NaN</td>\n",
       "      <td>国务院</td>\n",
       "      <td>NaN</td>\n",
       "    </tr>\n",
       "  </tbody>\n",
       "</table>\n",
       "<p>2 rows × 31 columns</p>\n",
       "</div>"
      ],
      "text/plain": [
       "   piclinksurl  code         pcode  source  \\\n",
       "0          NaN   NaN  国办函〔2021〕51号     NaN   \n",
       "1          NaN   NaN   国发〔2019〕12号     NaN   \n",
       "\n",
       "                                               title  totalCount  pubtimeStr  \\\n",
       "0  国务院办公厅转发国家<em>乡村</em><em>振兴</em>局中央农办财政部关于加强扶贫...           0  2021.06.04   \n",
       "1               国务院关于促进<em>乡村</em>产业<em>振兴</em>的指导意见           0  2019.06.28   \n",
       "\n",
       "   fwzh  imgurl  dateType  ...  zhengtype  personal  gname  subjectword  \\\n",
       "0   NaN     NaN      True  ...        NaN     False    NaN          NaN   \n",
       "1   NaN     NaN      True  ...        NaN     False    NaN          NaN   \n",
       "\n",
       "                                                 url           childtype  \\\n",
       "0  http://www.gov.cn/zhengce/zhengceku/2021-06/04...         民政、扶贫、救灾\\扶贫   \n",
       "1  http://www.gov.cn/zhengce/zhengceku/2019-06/28...  农业、林业、水利\\农业、畜牧业、渔业   \n",
       "\n",
       "         pubtime shixiao  puborg  syqt  \n",
       "0  1622789760000     NaN  国务院办公厅   NaN  \n",
       "1  1561712100000     NaN     国务院   NaN  \n",
       "\n",
       "[2 rows x 31 columns]"
      ]
     },
     "execution_count": 39,
     "metadata": {},
     "output_type": "execute_result"
    }
   ],
   "source": [
    "df_unique[:2]"
   ]
  },
  {
   "cell_type": "code",
   "execution_count": 40,
   "metadata": {},
   "outputs": [],
   "source": [
    "pd.DataFrame(df_unique[['title','pcode','puborg','pubtimeStr']]).to_excel('final_simply.xlsx')"
   ]
  },
  {
   "cell_type": "code",
   "execution_count": 51,
   "metadata": {},
   "outputs": [],
   "source": [
    "dcit=df_to_dict(pd.read_excel('./final_simply.xlsx'))"
   ]
  },
  {
   "cell_type": "code",
   "execution_count": 52,
   "metadata": {},
   "outputs": [],
   "source": [
    "for ind in range(len(dcit)):\n",
    "    dcit[ind]['序号']=str(ind+1)\n",
    "    dcit[ind]['标题']=clean_text(dcit[ind]['title'])\n",
    "    dcit[ind]['时间']=dcit[ind]['pubtimeStr']\n",
    "    dcit[ind]['发文字号']=dcit[ind]['pcode']\n",
    "    try:\n",
    "        dcit[ind]['puborg']+=''\n",
    "    except Exception as e:\n",
    "        dcit[ind]['puborg']='新华社'\n",
    "    dcit[ind]['来源']=dcit[ind]['puborg']\n",
    "    del dcit[ind]['title']\n",
    "    del dcit[ind]['pubtimeStr']\n",
    "    del dcit[ind]['pcode']\n",
    "    del dcit[ind]['puborg']"
   ]
  },
  {
   "cell_type": "code",
   "execution_count": 53,
   "metadata": {},
   "outputs": [],
   "source": [
    "pd.DataFrame(dcit).to_excel('./show.xlsx')"
   ]
  }
 ],
 "metadata": {
  "kernelspec": {
   "display_name": "venv",
   "language": "python",
   "name": "python3"
  },
  "language_info": {
   "codemirror_mode": {
    "name": "ipython",
    "version": 3
   },
   "file_extension": ".py",
   "mimetype": "text/x-python",
   "name": "python",
   "nbconvert_exporter": "python",
   "pygments_lexer": "ipython3",
   "version": "3.11.5"
  }
 },
 "nbformat": 4,
 "nbformat_minor": 2
}
