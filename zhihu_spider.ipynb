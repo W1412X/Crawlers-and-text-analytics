{
 "cells": [
  {
   "cell_type": "markdown",
   "metadata": {},
   "source": [
    "# 知乎搜索爬虫"
   ]
  },
  {
   "cell_type": "markdown",
   "metadata": {},
   "source": [
    "## 导入库\n",
    "- 直接运行看看少什么module然后安装就行"
   ]
  },
  {
   "cell_type": "code",
   "execution_count": 1,
   "metadata": {},
   "outputs": [],
   "source": [
    "from selenium import webdriver\n",
    "from selenium.webdriver.chrome.options import Options\n",
    "import copy\n",
    "import re\n",
    "import pandas as pd\n",
    "import openpyxl  \n",
    "from selenium.webdriver.common.by import By\n",
    "from selenium.webdriver.common.keys import Keys\n",
    "from selenium.webdriver.common.action_chains import ActionChains\n",
    "import time\n",
    "import numpy as np"
   ]
  },
  {
   "cell_type": "markdown",
   "metadata": {},
   "source": [
    "## 前置准备\n",
    "- 需要安装google浏览器\n",
    "- 通过命令行启动浏览器并且指定启动的端口\n",
    "- 我这里指定的启动端口为9222  \n",
    "- 具体的操作直接取网上搜索`selenium 接管已经打开的浏览器`即可"
   ]
  },
  {
   "cell_type": "markdown",
   "metadata": {},
   "source": [
    "### 在Ubuntu系统下的操作如下  \n",
    "- 首先确保自己安装了google浏览器\n",
    "```shell\n",
    "--proxy-server=host:port\n",
    "```  \n",
    "  - 就比如我想要指定端口为9222\n",
    "```shell\n",
    "google-chrome --remote-debugging-port=9222\n",
    "```\n",
    "- 之后就可以直接运行以下代码"
   ]
  },
  {
   "cell_type": "code",
   "execution_count": 2,
   "metadata": {},
   "outputs": [
    {
     "name": "stderr",
     "output_type": "stream",
     "text": [
      "There was an error managing chromedriver (error sending request for url (https://googlechromelabs.github.io/chrome-for-testing/known-good-versions-with-downloads.json)); using driver found in the cache\n"
     ]
    },
    {
     "name": "stdout",
     "output_type": "stream",
     "text": [
      "必应\n"
     ]
    }
   ],
   "source": [
    "driver_path=\"/bin/google-chrome\"\n",
    "chrome_options = Options()\n",
    "chrome_options.add_experimental_option(\"debuggerAddress\", \"127.0.0.1:9222\")\n",
    "chrome_driver = \"/bin/google-chrome\"\n",
    "driver = webdriver.Chrome(options=chrome_options)\n",
    "print(driver.title)"
   ]
  },
  {
   "cell_type": "markdown",
   "metadata": {},
   "source": [
    "## 爬虫部分  \n",
    "- `deal`函数用于传入一个`html`对象，并对这个对象做处理，提取信息"
   ]
  },
  {
   "cell_type": "code",
   "execution_count": 62,
   "metadata": {},
   "outputs": [],
   "source": [
    "def deal(item):\n",
    "    tmp={}\n",
    "    position=str(item.location['y']-item.size['height'])\n",
    "    driver.execute_script(\"window.scrollTo(0,\"+position+\")\")\n",
    "    more_button=item.find_element(by=By.CLASS_NAME,value='Button.ContentItem-more.FEfUrdfMIKpQDJDqkjte.Button--plain.fEPKGkUK5jyc4fUuT0QP')\n",
    "    more_button.click()\n",
    "    time.sleep(3)\n",
    "    ####\n",
    "    try:\n",
    "        tmp['title']=item.find_element(by=By.CLASS_NAME,value='ContentItem-title').text\n",
    "    except Exception as e:\n",
    "        tmp['title']=str(item.text).split('\\n')[0]  \n",
    "    try:\n",
    "        tmp['author']=item.find_element(by=By.CLASS_NAME,value='UserLink.AuthorInfo-name').text\n",
    "    except Exception as e:\n",
    "        tmp['author']=None  \n",
    "    try:\n",
    "        tmp['content']=re.sub('\\s+','',str(item.find_element(by=By.CLASS_NAME,value='RichContent-inner').text))  \n",
    "    except Exception as e:\n",
    "        tmp['content']=re.sub('\\s+','',str(''.join(str(item.text).split('\\n')[1:])))\n",
    "    try:\n",
    "        tmp['time']=str(item.find_element(by=By.CLASS_NAME,value='ContentItem-time').text).replace('发布于','')\n",
    "        tmp['time']=tmp['time'].replace('编辑于','')\n",
    "    except Exception as e:\n",
    "        tmp['time']='2024-01-01 00:00' \n",
    "    try: \n",
    "        tmp['up_count']=int(re.search(r'\\d+',str(item.find_element(by=By.CLASS_NAME,value='Button.VoteButton.VoteButton--up.FEfUrdfMIKpQDJDqkjte').text)).group())\n",
    "    except Exception as e:\n",
    "        tmp['up_count']=0\n",
    "    #### \n",
    "    down_position=str(item.location['y'])\n",
    "    driver.execute_script(\"window.scrollTo(0,\"+str(down_position)+\")\")\n",
    "    time.sleep(1)\n",
    "    less_button=item.find_element(by=By.CLASS_NAME,value='RichContent-collapsedText') \n",
    "    less_button.click() \n",
    "    return tmp"
   ]
  },
  {
   "cell_type": "markdown",
   "metadata": {},
   "source": [
    "### 流水线  \n",
    "- 传入一个字符串代表要输入的搜索内容\n",
    "- 运行此函数可以直接将搜索的所有内容保存至表格文件中"
   ]
  },
  {
   "cell_type": "code",
   "execution_count": 63,
   "metadata": {},
   "outputs": [],
   "source": [
    "def deal_search(content:str):\n",
    "    df_ori=pd.read_excel('result.xlsx')\n",
    "    df_ori=df_ori[df_ori.columns[1:]]\n",
    "    articles=[]\n",
    "    search_input=driver.find_element(by=By.XPATH,value=\"/html/body/div[1]/div/div[2]/header/div[1]/div[1]/div/form/div/div/label/input\")\n",
    "    search_button=driver.find_element(by=By.XPATH,value=\"/html/body/div[1]/div/div[2]/header/div[1]/div[1]/div/form/div/div/label/button\")\n",
    "    search_input.send_keys(content)\n",
    "    search_button.click()\n",
    "    time.sleep(5)\n",
    "    root=driver.find_element(by=By.ID,value='root')\n",
    "    root.click()\n",
    "    for i in range(25):\n",
    "        driver.execute_script(\"window.scrollTo(0,document.body.scrollHeight)\")\n",
    "        time.sleep(0.5)\n",
    "    time.sleep(3)\n",
    "    re_list=driver.find_elements(by=By.CLASS_NAME,value=\"List-item\")\n",
    "    for item in re_list:\n",
    "        try:\n",
    "            articles.append(deal(item))\n",
    "        except Exception as e:\n",
    "            continue\n",
    "    df=pd.DataFrame(articles)  \n",
    "    df=pd.concat([df_ori,df],axis=0)  \n",
    "    df.to_excel('result.xlsx')  \n",
    "    search_input=driver.find_element(by=By.XPATH,value=\"/html/body/div[1]/div/div[2]/header/div[1]/div[1]/div/form/div/div/label/input\")\n",
    "    for i in range(len(content)):\n",
    "        search_input.send_keys(Keys.BACK_SPACE)"
   ]
  },
  {
   "cell_type": "markdown",
   "metadata": {},
   "source": [
    "### 关键词列表  \n",
    "- 可以个根据需要修改关键词列表"
   ]
  },
  {
   "cell_type": "code",
   "execution_count": 64,
   "metadata": {},
   "outputs": [],
   "source": [
    "contents=['乡村振兴','大学生返乡发展','青年返乡发展','乡村复兴','发展农村','农村创业','乡村创业','如何发展乡村经济','农村经济发展','山村经济发展','青年返乡','毕业生农村','青年乡村','大学生乡村']"
   ]
  },
  {
   "cell_type": "markdown",
   "metadata": {},
   "source": [
    "### 根据关键词列表爬去对应的内容"
   ]
  },
  {
   "cell_type": "code",
   "execution_count": 65,
   "metadata": {},
   "outputs": [],
   "source": [
    "for ind in range(len(contents)):\n",
    "    try:\n",
    "        deal_search(contents[ind])\n",
    "    except Exception as e:\n",
    "        print(contents[ind]+\" failed\") \n",
    "        ind-=1\n",
    "        driver.refresh()\n",
    "        time.sleep(10)\n",
    "        search_input=driver.find_element(by=By.XPATH,value=\"/html/body/div[1]/div/div[2]/header/div[1]/div[1]/div/form/div/div/label/input\")\n",
    "        for i in range(10):\n",
    "            search_input.send_keys(Keys.BACK_SPACE)\n",
    "    time.sleep(5)"
   ]
  },
  {
   "cell_type": "code",
   "execution_count": 94,
   "metadata": {},
   "outputs": [],
   "source": [
    "df=pd.read_excel('./result.xlsx')"
   ]
  },
  {
   "cell_type": "markdown",
   "metadata": {},
   "source": [
    "## 根据title中是否含有问号筛选出问题和文章分别保存至`articles.xlsx`和`answer.xlsx`"
   ]
  },
  {
   "cell_type": "code",
   "execution_count": 4,
   "metadata": {},
   "outputs": [
    {
     "name": "stdout",
     "output_type": "stream",
     "text": [
      "0       False\n",
      "1       False\n",
      "2       False\n",
      "3       False\n",
      "4       False\n",
      "        ...  \n",
      "2598    False\n",
      "2599     True\n",
      "2600    False\n",
      "2601    False\n",
      "2602    False\n",
      "Length: 2603, dtype: bool\n"
     ]
    }
   ],
   "source": [
    "df=pd.read_excel('./result.xlsx')\n",
    "df=df[df.columns[1:]]\n",
    "bools=df.duplicated(subset=None, keep='first')\n",
    "df_unique=df[[not i for i in bools]].reset_index(drop=True)\n",
    "question=[True if \"?\" in i or \"？\" in i else False for i in df_unique['title']]\n",
    "df_articles=df_unique[[not i for i in question]].reset_index(drop=True)\n",
    "df_answers=df_unique[question].reset_index(drop=True)\n",
    "df_answers.to_excel(\"./answers.xlsx\")\n",
    "df_articles.to_excel(\"./articles.xlsx\")\n",
    "df_unique.to_excel('result_unique.xlsx')  \n",
    "print(bools)"
   ]
  }
 ],
 "metadata": {
  "kernelspec": {
   "display_name": "Python 3 (ipykernel)",
   "language": "python",
   "name": "python3"
  },
  "language_info": {
   "codemirror_mode": {
    "name": "ipython",
    "version": 3
   },
   "file_extension": ".py",
   "mimetype": "text/x-python",
   "name": "python",
   "nbconvert_exporter": "python",
   "pygments_lexer": "ipython3",
   "version": "3.11.5"
  }
 },
 "nbformat": 4,
 "nbformat_minor": 4
}
